{
 "cells": [
  {
   "cell_type": "code",
   "execution_count": 21,
   "metadata": {},
   "outputs": [],
   "source": [
    "import glob\n",
    "import sys\n",
    "sys.path.append(\"../prog\")\n",
    "import cauFirst"
   ]
  },
  {
   "cell_type": "code",
   "execution_count": 22,
   "metadata": {},
   "outputs": [],
   "source": [
    "from FDTreeSet import *\n",
    "from WFChain import *"
   ]
  },
  {
   "cell_type": "code",
   "execution_count": 23,
   "metadata": {},
   "outputs": [],
   "source": [
    "import glob\n",
    "doit = [\"MaterialsList\",\"all\"]\n",
    "doit = [\"Group\"]\n",
    "doit = [\"Importance\"]\n",
    "\n",
    "dotoption={\"apply_same_rank\":False,\"connect_invis\":False}\n"
   ]
  },
  {
   "cell_type": "code",
   "execution_count": 24,
   "metadata": {},
   "outputs": [
    {
     "data": {
      "text/plain": [
       "['../sample/Importance_GenerateGroup.yml',\n",
       " '../sample/Importance_ExhaustiveSearchDiagram.yml',\n",
       " '../sample/Importance_VisualizeRelevanceImportance.yml',\n",
       " '../sample/Importance_MakeScores.yml',\n",
       " '../sample/Importance_DescriptorGroupRelevanceImportance_Taxo.yml',\n",
       " '../sample/Importance_ExhaustiveSearchDOS.yml',\n",
       " '../sample/Importance_TopTaxo.yml',\n",
       " '../sample/Importance_RelevanceImportance.yml']"
      ]
     },
     "execution_count": 24,
     "metadata": {},
     "output_type": "execute_result"
    }
   ],
   "source": [
    "if \"MaterialsList\" in doit:\n",
    "    if \"all\" in doit:\n",
    "        filenames = [\"../sample/MaterialsList_CrystalCandidates.yml\",\n",
    "                    \"../sample/MaterialsList_RegressionModel.yml\",\n",
    "                     \"../sample/MaterialsList_SearchGoodMaterial.yml\",\n",
    "                     \"../sample/MaterialsList_TrainingSet.yml\",\n",
    "                     \"../sample/MaterialsList_aquisitionFunction.yml\",\n",
    "                     \"../sample/Richer_DB.yml\"\n",
    "                    ]\n",
    "    elif \"noDB\" in doit:\n",
    "        filenames = [\"../sample/MaterialsList_CrystalCandidates.yml\",\n",
    "                    \"../sample/MaterialsList_RegressionModel.yml\",\n",
    "                     \"../sample/MaterialsList_SearchGoodMaterial.yml\",\n",
    "                     \"../sample/MaterialsList_TrainingSet.yml\",\n",
    "                     \"../sample/MaterialsList_aquisitionFunction.yml\"\n",
    "                    ]   \n",
    "    elif \"1\" in doit:\n",
    "        filenames = [\n",
    "                     \"../sample/Richer_DB.yml\"\n",
    "                    ]\n",
    "\n",
    "if \"AtomicCoordinate\" in doit:\n",
    "    filenames = glob.glob(\"../sample/AtomicCoordinate2Descriptor_*.yml\")\n",
    "    #filenames = [ '../sample/AtomicCoordinate2Descriptor_Parts.yml']\n",
    "\n",
    "if \"AtomicProperty\" in doit:\n",
    "    filenames = glob.glob(\"../sample/AtomicProperty_*.yml\")\n",
    "\n",
    "if \"TheoreticalTargetValue\" in doit:\n",
    "    filenames = glob.glob(\"../sample/TheoreticalTargetValuePrediction*.yml\")\n",
    "\n",
    "if \"Group\" in doit:\n",
    "    filenames = glob.glob(\"../sample/Group*.yml\")\n",
    "    filenames = [ '../sample/Group_FeatureSubset.yml',\n",
    "        '../sample/Group_FeatureSetbykMeans.yml',\n",
    "     '../sample/Group_DistanceMatrix.yml',\n",
    "     '../sample/Group_FeatureSet.yml']\n",
    "    #filenames = ['../sample/Group_FeatureSubset.yml']\n",
    "    \n",
    "if \"Importance\" in doit:\n",
    "    filenames = glob.glob(\"../sample/Importance_*.yml\")\n",
    "                 \n",
    "filenames"
   ]
  },
  {
   "cell_type": "code",
   "execution_count": 25,
   "metadata": {
    "scrolled": true
   },
   "outputs": [
    {
     "name": "stdout",
     "output_type": "stream",
     "text": [
      "{'apply_same_rank': False, 'connect_invis': False}\n",
      "DFTree:dotoption {'apply_same_rank': False, 'connect_invis': False}\n",
      "init:dotoption {'apply_same_rank': False, 'connect_invis': False}\n",
      "gen_tree: apply_same_rank False\n",
      "init:dotoption {'apply_same_rank': False, 'connect_invis': False}\n",
      "linktyp None\n",
      "link:\n",
      "- link:\n",
      "  - nodename: WeakDescriptorGroupImportance\n",
      "    nodetype: parts\n",
      "  - nodename: StrongDescriptorGroupImportance\n",
      "    nodetype: parts\n",
      "  linktype: is-a\n",
      "  nodename: DescriptorGroupRelevanceImportance\n",
      "  nodetype: parts\n",
      "\n",
      "gen_tree: apply_same_rank False\n",
      "linktyp None\n",
      "link:\n",
      "- link:\n",
      "  - linktype: is-a\n",
      "    nodename: VisualizedRelevanceScoreImportance\n",
      "    nodetype: parts\n",
      "  - linktype: is-a\n",
      "    nodename: VisualizedRelevanceDOSImportance\n",
      "    nodetype: parts\n",
      "  - linktype: is-a\n",
      "    nodename: VisualizedFeatureImportance\n",
      "    nodetype: parts\n",
      "  linktype: is-a\n",
      "  nodename: VisualizedImportance\n",
      "  nodetype: parts\n",
      "\n",
      "gen_tree: apply_same_rank False\n",
      "png is made.\n"
     ]
    },
    {
     "data": {
      "text/plain": [
       "'/media/sf_local_pc/all.gv.png'"
      ]
     },
     "execution_count": 25,
     "metadata": {},
     "output_type": "execute_result"
    }
   ],
   "source": [
    "fdtset = FDTreeSet()\n",
    "fdtset.load_files(filenames)\n",
    "#fdtset.print_names()\n",
    "basename = \"all\"\n",
    "print(dotoption)\n",
    "fdtree = cauFirst.FDTree(basename,dotoption=dotoption)\n",
    "fdtree.apply(fdtset.export_dic())\n",
    "import shutil\n",
    "filename = \"{}.gv.png\".format(basename)\n",
    "shutil.copyfile(filename,\"/media/sf_local_pc/{}\".format(filename))\n"
   ]
  },
  {
   "cell_type": "code",
   "execution_count": 26,
   "metadata": {
    "scrolled": true
   },
   "outputs": [
    {
     "name": "stdout",
     "output_type": "stream",
     "text": [
      "['FeatureSubgroups', 'FeatureDendrogram', 'ScoreOfAllPredictionModels', 'BestScoreExceptGroupWithSubgroup', 'chooseGroup', 'DescriptorGroupRelevanceImportance', 'chooseSubgroup', 'BestScoreExceptGroup', 'FeatureGroups', 'AllPredictionModelsExceptGroupWithSubgroup', 'AllPredictionModels', 'ScoreOfAllPredictionModelsExceptGroupWithSubgroup', 'ScoreOfAllPredictionModelsExceptGroup', 'AllPredictionModelsExceptGroup', 'BestScoreOfAllPredictionModels']\n",
      "DFTree:dotoption {'apply_same_rank': False, 'connect_invis': False}\n",
      "init:dotoption {'apply_same_rank': False, 'connect_invis': False}\n",
      "gen_tree: apply_same_rank False\n",
      "png is made.\n"
     ]
    },
    {
     "data": {
      "text/plain": [
       "'/media/sf_local_pc/allWF.gv.png'"
      ]
     },
     "execution_count": 26,
     "metadata": {},
     "output_type": "execute_result"
    }
   ],
   "source": [
    "wfchain = wfblockToWFChaim(fdtset.wfblockall)\n",
    "wf = wfchain.to_WF()\n",
    "if False:\n",
    "    print(yaml.dump(wf))\n",
    "    \n",
    "print(wfchain.get_outputnames(only=[\"node1\"]))\n",
    "\n",
    "basename = \"allWF\"\n",
    "fdtree = cauFirst.FDTree(basename=basename,dotoption=dotoption)\n",
    "fdtree.apply(wf)\n",
    "\n",
    "import shutil\n",
    "filename = \"{}.gv.png\".format(basename)\n",
    "shutil.copyfile(filename,\"/media/sf_local_pc/{}\".format(filename))\n"
   ]
  },
  {
   "cell_type": "code",
   "execution_count": 27,
   "metadata": {
    "scrolled": true
   },
   "outputs": [
    {
     "name": "stdout",
     "output_type": "stream",
     "text": [
      "wklistnext> []\n",
      "DFTree:dotoption {'apply_same_rank': False, 'connect_invis': False}\n",
      "init:dotoption {'apply_same_rank': False, 'connect_invis': False}\n",
      "gen_tree: apply_same_rank False\n",
      "png is made.\n"
     ]
    }
   ],
   "source": [
    "execute = False\n",
    "if \"MaterialsList\" in doit:\n",
    "    trainchain = wfchain.search_link(\"TrainingData\",\"raiseMaterialsList\")\n",
    "    newchain = wfchain.search_link(\"NewsetCrystal\",\"raiseMaterialsList\")\n",
    "    trainchain.extend(newchain)\n",
    "    execute = True\n",
    "if \"Group\" in doit:\n",
    "    trainchain = wfchain.search_link(\"DescriptorOfAllData\", \\\n",
    "                                     \"FeatureGroupCandidates\")\n",
    "    execute = True\n",
    "if \"Importance in doit\":\n",
    "    trainchain = wfchain.search_link(\"AllModels\", \\\n",
    "                                     \"AllModelsExceptGroupWithSubgroup\")\n",
    "    execute = True  \n",
    "    \n",
    "if execute:\n",
    "    wfsub = trainchain.to_WF()\n",
    "    fdtree = cauFirst.FDTree(basename=\"new\",dotoption=dotoption)\n",
    "    fdtree.apply(wfsub)\n",
    "    import shutil\n",
    "    filename = \"new.gv.png\"\n",
    "    shutil.copyfile(filename,\"/media/sf_local_pc/{}\".format(filename))"
   ]
  },
  {
   "cell_type": "code",
   "execution_count": null,
   "metadata": {},
   "outputs": [],
   "source": []
  }
 ],
 "metadata": {
  "kernelspec": {
   "display_name": "Python 3",
   "language": "python",
   "name": "python3"
  },
  "language_info": {
   "codemirror_mode": {
    "name": "ipython",
    "version": 3
   },
   "file_extension": ".py",
   "mimetype": "text/x-python",
   "name": "python",
   "nbconvert_exporter": "python",
   "pygments_lexer": "ipython3",
   "version": "3.7.3"
  }
 },
 "nbformat": 4,
 "nbformat_minor": 2
}
