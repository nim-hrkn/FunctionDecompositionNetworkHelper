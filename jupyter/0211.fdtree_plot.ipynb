{
 "cells": [
  {
   "cell_type": "code",
   "execution_count": 29,
   "metadata": {},
   "outputs": [],
   "source": [
    "import glob\n",
    "import sys\n",
    "sys.path.append(\"../prog\")\n",
    "import cauFirst"
   ]
  },
  {
   "cell_type": "code",
   "execution_count": 30,
   "metadata": {},
   "outputs": [],
   "source": [
    "from FDTreeSet import *\n",
    "from WFChain import *"
   ]
  },
  {
   "cell_type": "code",
   "execution_count": 31,
   "metadata": {},
   "outputs": [],
   "source": [
    "import glob\n",
    "doit = [\"MaterialsList\",\"all\"]\n",
    "doit = [\"Group\"]"
   ]
  },
  {
   "cell_type": "code",
   "execution_count": 32,
   "metadata": {},
   "outputs": [
    {
     "name": "stdout",
     "output_type": "stream",
     "text": [
      "['../sample/Group_FeatureSubset.yml', '../sample/Group_FeatureSetbykMeans.yml', '../sample/Group_DistanceMatrix.yml', '../sample/Group_FeatureSet.yml']\n"
     ]
    }
   ],
   "source": [
    "if \"MaterialsList\" in doit:\n",
    "    if \"all\" in doit:\n",
    "        filenames = [\"../sample/MaterialsList_CrystalCandidates.yml\",\n",
    "                    \"../sample/MaterialsList_RegressionModel.yml\",\n",
    "                     \"../sample/MaterialsList_SearchGoodMaterial.yml\",\n",
    "                     \"../sample/MaterialsList_TrainingSet.yml\",\n",
    "                     \"../sample/MaterialsList_aquisitionFunction.yml\",\n",
    "                     \"../sample/Richer_DB.yml\"\n",
    "                    ]\n",
    "    elif \"noDB\" in doit:\n",
    "        filenames = [\"../sample/MaterialsList_CrystalCandidates.yml\",\n",
    "                    \"../sample/MaterialsList_RegressionModel.yml\",\n",
    "                     \"../sample/MaterialsList_SearchGoodMaterial.yml\",\n",
    "                     \"../sample/MaterialsList_TrainingSet.yml\",\n",
    "                     \"../sample/MaterialsList_aquisitionFunction.yml\"\n",
    "                    ]   \n",
    "    elif \"1\" in doit:\n",
    "        filenames = [\n",
    "                     \"../sample/Richer_DB.yml\"\n",
    "                    ]\n",
    "\n",
    "if \"AtomicCoordinate\" in doit:\n",
    "    filenames = glob.glob(\"../sample/AtomicCoordinate2Descriptor_*.yml\")\n",
    "    #filenames = [ '../sample/AtomicCoordinate2Descriptor_Parts.yml']\n",
    "\n",
    "if \"AtomicProperty\" in doit:\n",
    "    filenames = glob.glob(\"../sample/AtomicProperty_*.yml\")\n",
    "\n",
    "if \"TheoreticalTargetValue\" in doit:\n",
    "    filenames = glob.glob(\"../sample/TheoreticalTargetValuePrediction*.yml\")\n",
    "\n",
    "if \"Group\" in doit:\n",
    "    filenames = glob.glob(\"../sample/Group*.yml\")\n",
    "    print(filenames)\n",
    "    filenames = [ '../sample/Group_FeatureSubset.yml',\n",
    "        '../sample/Group_FeatureSetbykMeans.yml',\n",
    "     '../sample/Group_DistanceMatrix.yml',\n",
    "     '../sample/Group_FeatureSet.yml']\n",
    "    #filenames = ['../sample/Group_FeatureSubset.yml']\n",
    "    filenames"
   ]
  },
  {
   "cell_type": "code",
   "execution_count": 33,
   "metadata": {
    "scrolled": true
   },
   "outputs": [
    {
     "name": "stdout",
     "output_type": "stream",
     "text": [
      "workflow: domainknowledgeSubgroup\n",
      "workflow: domainknowledgeSubgroup\n",
      "workflow: kmeans\n",
      "workflow: gmm\n",
      "workflow: kmeans\n",
      "workflow: gmm\n",
      "workflow: SpearmanDistance\n",
      "workflow: elcleadianDistance\n",
      "workflow: cosineDistance\n",
      "workflow: manhattanDistance\n",
      "workflow: DomainKnowlege\n",
      "workflow: dendrogram\n",
      "workflow: dendrogram\n",
      "workflow: dendrogram\n",
      "png is made.\n"
     ]
    },
    {
     "data": {
      "text/plain": [
       "'/media/sf_local_pc/all.gv.png'"
      ]
     },
     "execution_count": 33,
     "metadata": {},
     "output_type": "execute_result"
    }
   ],
   "source": [
    "fdtset = FDTreeSet()\n",
    "fdtset.load_files(filenames)\n",
    "fdtset.print_names()\n",
    "basename = \"all\"\n",
    "fdtree = cauFirst.FDTree(basename)\n",
    "fdtree.apply(fdtset.export_dic())\n",
    "import shutil\n",
    "filename = \"{}.gv.png\".format(basename)\n",
    "shutil.copyfile(filename,\"/media/sf_local_pc/{}\".format(filename))\n"
   ]
  },
  {
   "cell_type": "code",
   "execution_count": 34,
   "metadata": {
    "scrolled": true
   },
   "outputs": [
    {
     "name": "stdout",
     "output_type": "stream",
     "text": [
      "['FeatureGroupsDistanceThresholdAll', 'getDomainKnowledge(group)', 'FeatureGroupCandidates', 'kMeansParameter', 'getDomainKnowledge(subgroup)', 'FeatureGroups', 'DescriptorOfAllData', 'FeatureDendrogram(group)', 'FeatureDistanceMatrix', 'GMMParameter', 'FeatureSubgroupCandidates']\n",
      "png is made.\n"
     ]
    },
    {
     "data": {
      "text/plain": [
       "'/media/sf_local_pc/allWF.gv.png'"
      ]
     },
     "execution_count": 34,
     "metadata": {},
     "output_type": "execute_result"
    }
   ],
   "source": [
    "wfchain = wfblockToWFChaim(fdtset.wfblockall)\n",
    "wf = wfchain.to_WF()\n",
    "if False:\n",
    "    print(yaml.dump(wf))\n",
    "    \n",
    "print(wfchain.get_outputnames(only=[\"node1\"]))\n",
    "\n",
    "basename = \"allWF\"\n",
    "fdtree = cauFirst.FDTree(basename=basename)\n",
    "fdtree.apply(wf)\n",
    "\n",
    "import shutil\n",
    "filename = \"{}.gv.png\".format(basename)\n",
    "shutil.copyfile(filename,\"/media/sf_local_pc/{}\".format(filename))\n"
   ]
  },
  {
   "cell_type": "code",
   "execution_count": 35,
   "metadata": {
    "scrolled": true
   },
   "outputs": [
    {
     "name": "stdout",
     "output_type": "stream",
     "text": [
      ">found link [['DescriptorOfAllData', 'FeatureGroupCandidates'], ['DescriptorOfAllData', 'FeatureGroupCandidates'], ['DescriptorOfAllData', 'FeatureGroupCandidates'], ['DescriptorOfAllData', 'FeatureGroupCandidates'], ['DescriptorOfAllData', 'FeatureGroupCandidates']]\n",
      "wklistnext> ['FeatureDistanceMatrix', 'FeatureGroupCandidates']\n",
      "wklistnext> ['FeatureDendrogram(group)']\n",
      ">found link [['DescriptorOfAllData', 'FeatureGroupCandidates'], ['DescriptorOfAllData', 'FeatureGroupCandidates'], ['DescriptorOfAllData', 'FeatureGroupCandidates'], ['DescriptorOfAllData', 'FeatureGroupCandidates'], ['DescriptorOfAllData', 'FeatureGroupCandidates'], ['DescriptorOfAllData', 'FeatureDistanceMatrix'], ['FeatureDistanceMatrix', 'FeatureDendrogram(group)'], ['FeatureDendrogram(group)', 'FeatureGroupCandidates']]\n",
      "wklistnext> ['FeatureGroupCandidates']\n",
      "wklistnext> ['FeatureGroups']\n",
      "wklistnext> ['FeatureSubgroupCandidates']\n",
      "wklistnext> ['FeatureSubgroups']\n",
      "wklistnext> []\n",
      "wklistnext> ['FeatureGroups']\n",
      "wklistnext> ['FeatureSubgroupCandidates']\n",
      "wklistnext> ['FeatureSubgroups']\n",
      "wklistnext> []\n",
      "search> {'methodname': 'FeaturekMeansClustering(group)', 'outputname': 'FeatureGroupCandidates', 'outputtype': 'parts'}\n",
      "add node> {'methodname': 'genDescriptorOfAllData', 'methodtype': 'function', 'outputname': 'DescriptorOfAllData', 'outputtype': 'parts'}\n",
      "add node> {'methodname': 'choosekMeansParameterAll', 'methodtype': 'function', 'outputname': 'kMeansParameter', 'outputtype': 'parts'}\n",
      "search> {'methodname': 'FeatureGMMClustering(group)', 'outputname': 'FeatureGroupCandidates', 'outputtype': 'parts'}\n",
      "add node> {'methodname': 'genDescriptorOfAllData', 'methodtype': 'function', 'outputname': 'DescriptorOfAllData', 'outputtype': 'parts'}\n",
      "add node> {'methodname': 'chooseGMMParameterAll', 'methodtype': 'function', 'outputname': 'GMMParameter', 'outputtype': 'parts'}\n",
      "search> {'methodname': 'FeatureSpearmanDistance', 'outputname': 'FeatureDistanceMatrix', 'outputtype': 'parts'}\n",
      "add node> {'methodname': 'genDescriptorOfAllData', 'methodtype': 'function', 'outputname': 'DescriptorOfAllData', 'outputtype': 'parts'}\n",
      "search> {'methodname': 'FeatureEucleadianDistance', 'outputname': 'FeatureDistanceMatrix', 'outputtype': 'parts'}\n",
      "add node> {'methodname': 'genDescriptorOfAllData', 'methodtype': 'function', 'outputname': 'DescriptorOfAllData', 'outputtype': 'parts'}\n",
      "search> {'methodname': 'FeatureCosineDistance', 'outputname': 'FeatureDistanceMatrix', 'outputtype': 'parts'}\n",
      "add node> {'methodname': 'genDescriptorOfAllData', 'methodtype': 'function', 'outputname': 'DescriptorOfAllData', 'outputtype': 'parts'}\n",
      "search> {'methodname': 'FeatureManhattanDistance', 'outputname': 'FeatureDistanceMatrix', 'outputtype': 'parts'}\n",
      "add node> {'methodname': 'genDescriptorOfAllData', 'methodtype': 'function', 'outputname': 'DescriptorOfAllData', 'outputtype': 'parts'}\n",
      "search> {'methodname': 'FeatureDistanceMatrixHierarchalClustering', 'outputname': 'FeatureDendrogram(group)', 'outputtype': 'parts'}\n",
      "add node> {'outputname': 'FeatureDistanceMatrix', 'outputtype': 'parts'}\n",
      "search> {'methodname': 'DendrogramClusteringFeatureGroups', 'outputname': 'FeatureGroupCandidates', 'outputtype': 'parts'}\n",
      "add node> {'methodname': 'chooseFeatureGroupsDistanceThresholdAll', 'methodtype': 'function', 'outputname': 'FeatureGroupsDistanceThresholdAll', 'outputtype': 'parts'}\n",
      "add node> {'outputname': 'FeatureDendrogram(group)', 'outputtype': 'parts'}\n",
      "png is made.\n"
     ]
    }
   ],
   "source": [
    "execute = False\n",
    "if \"MaterialsList\" in doit:\n",
    "    trainchain = wfchain.search_link(\"TrainingData\",\"raiseMaterialsList\")\n",
    "    newchain = wfchain.search_link(\"NewsetCrystal\",\"raiseMaterialsList\")\n",
    "    trainchain.extend(newchain)\n",
    "    execute = True\n",
    "if \"Group\" in doit:\n",
    "    trainchain = wfchain.search_link(\"DescriptorOfAllData\", \\\n",
    "                                     \"FeatureGroupCandidates\")\n",
    "    execute = True\n",
    "    \n",
    "if execute:\n",
    "    wfsub = trainchain.to_WF()\n",
    "    fdtree = cauFirst.FDTree(basename=\"new\")\n",
    "    fdtree.apply(wfsub)\n",
    "    import shutil\n",
    "    filename = \"new.gv.png\"\n",
    "    shutil.copyfile(filename,\"/media/sf_local_pc/{}\".format(filename))"
   ]
  },
  {
   "cell_type": "code",
   "execution_count": null,
   "metadata": {},
   "outputs": [],
   "source": []
  }
 ],
 "metadata": {
  "kernelspec": {
   "display_name": "Python 3",
   "language": "python",
   "name": "python3"
  },
  "language_info": {
   "codemirror_mode": {
    "name": "ipython",
    "version": 3
   },
   "file_extension": ".py",
   "mimetype": "text/x-python",
   "name": "python",
   "nbconvert_exporter": "python",
   "pygments_lexer": "ipython3",
   "version": "3.7.3"
  }
 },
 "nbformat": 4,
 "nbformat_minor": 2
}
