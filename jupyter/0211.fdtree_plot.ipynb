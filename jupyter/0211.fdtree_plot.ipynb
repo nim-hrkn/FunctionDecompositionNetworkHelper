{
 "cells": [
  {
   "cell_type": "code",
   "execution_count": 1,
   "metadata": {},
   "outputs": [],
   "source": [
    "import glob\n",
    "import sys\n",
    "sys.path.append(\"../prog\")\n",
    "import cauFirst"
   ]
  },
  {
   "cell_type": "code",
   "execution_count": 2,
   "metadata": {},
   "outputs": [],
   "source": [
    "from FDTreeSet import *\n",
    "from WFChain import *"
   ]
  },
  {
   "cell_type": "code",
   "execution_count": 3,
   "metadata": {},
   "outputs": [],
   "source": [
    "import glob\n",
    "doit = [\"MaterialsList\",\"all\"]\n",
    "#doit = [\"Group\"]\n",
    "#doit = [\"Importance\"]\n",
    "\n",
    "dotoption={\"apply_same_rank\":False,\"connect_invis\":False}\n"
   ]
  },
  {
   "cell_type": "code",
   "execution_count": 4,
   "metadata": {},
   "outputs": [
    {
     "data": {
      "text/plain": [
       "['../sample/MaterialsList_CrystalCandidates.yml',\n",
       " '../sample/MaterialsList_RegressionModel.yml',\n",
       " '../sample/MaterialsList_SearchGoodMaterial.yml',\n",
       " '../sample/MaterialsList_TrainingSet.yml',\n",
       " '../sample/MaterialsList_aquisitionFunction.yml',\n",
       " '../sample/Richer_DB.yml']"
      ]
     },
     "execution_count": 4,
     "metadata": {},
     "output_type": "execute_result"
    }
   ],
   "source": [
    "if \"MaterialsList\" in doit:\n",
    "    if \"all\" in doit:\n",
    "        filenames = [\"../sample/MaterialsList_CrystalCandidates.yml\",\n",
    "                    \"../sample/MaterialsList_RegressionModel.yml\",\n",
    "                     \"../sample/MaterialsList_SearchGoodMaterial.yml\",\n",
    "                     \"../sample/MaterialsList_TrainingSet.yml\",\n",
    "                     \"../sample/MaterialsList_aquisitionFunction.yml\",\n",
    "                     \"../sample/Richer_DB.yml\"\n",
    "                    ]\n",
    "    elif \"noDB\" in doit:\n",
    "        filenames = [\"../sample/MaterialsList_CrystalCandidates.yml\",\n",
    "                    \"../sample/MaterialsList_RegressionModel.yml\",\n",
    "                     \"../sample/MaterialsList_SearchGoodMaterial.yml\",\n",
    "                     \"../sample/MaterialsList_TrainingSet.yml\",\n",
    "                     \"../sample/MaterialsList_aquisitionFunction.yml\"\n",
    "                    ]   \n",
    "    elif \"1\" in doit:\n",
    "        filenames = [\n",
    "                     \"../sample/Richer_DB.yml\"\n",
    "                    ]\n",
    "\n",
    "if \"AtomicCoordinate\" in doit:\n",
    "    filenames = glob.glob(\"../sample/AtomicCoordinate2Descriptor_*.yml\")\n",
    "    #filenames = [ '../sample/AtomicCoordinate2Descriptor_Parts.yml']\n",
    "\n",
    "if \"AtomicProperty\" in doit:\n",
    "    filenames = glob.glob(\"../sample/AtomicProperty_*.yml\")\n",
    "\n",
    "if \"TheoreticalTargetValue\" in doit:\n",
    "    filenames = glob.glob(\"../sample/TheoreticalTargetValuePrediction*.yml\")\n",
    "\n",
    "if \"Group\" in doit:\n",
    "    filenames = glob.glob(\"../sample/Group*.yml\")\n",
    "    filenames = [ '../sample/Group_FeatureSubset.yml',\n",
    "        '../sample/Group_FeatureSetbykMeans.yml',\n",
    "     '../sample/Group_DistanceMatrix.yml',\n",
    "     '../sample/Group_FeatureSet.yml']\n",
    "    #filenames = ['../sample/Group_FeatureSubset.yml']\n",
    "    \n",
    "if \"Importance\" in doit:\n",
    "    filenames = glob.glob(\"../sample/Importance_*.yml\")\n",
    "                 \n",
    "filenames"
   ]
  },
  {
   "cell_type": "code",
   "execution_count": 5,
   "metadata": {
    "scrolled": true
   },
   "outputs": [
    {
     "name": "stdout",
     "output_type": "stream",
     "text": [
      "{'apply_same_rank': False, 'connect_invis': False}\n",
      "DFTree:dotoption {'apply_same_rank': False, 'connect_invis': False}\n",
      "init:dotoption {'apply_same_rank': False, 'connect_invis': False}\n",
      "gen_tree: apply_same_rank False\n",
      "init:dotoption {'apply_same_rank': False, 'connect_invis': False}\n",
      "png is made.\n"
     ]
    },
    {
     "data": {
      "text/plain": [
       "'/media/sf_local_pc/all.gv.png'"
      ]
     },
     "execution_count": 5,
     "metadata": {},
     "output_type": "execute_result"
    }
   ],
   "source": [
    "fdtset = FDTreeSet()\n",
    "fdtset.load_files(filenames)\n",
    "#fdtset.print_names()\n",
    "basename = \"all\"\n",
    "print(dotoption)\n",
    "fdtree = cauFirst.FDTree(basename,dotoption=dotoption)\n",
    "fdtree.apply(fdtset.export_dic())\n",
    "import shutil\n",
    "filename = \"{}.gv.png\".format(basename)\n",
    "shutil.copyfile(filename,\"/media/sf_local_pc/{}\".format(filename))\n"
   ]
  },
  {
   "cell_type": "code",
   "execution_count": 6,
   "metadata": {
    "scrolled": true
   },
   "outputs": [
    {
     "name": "stdout",
     "output_type": "stream",
     "text": [
      "['chooseMaterialsDatabase', 'searchMaterialsListHavingNoTargetVariable', 'NewSynthesizedCrystalCoordinates', 'PredictionMeanAndVariance', 'MaterialsKnowledge', 'aquisitionFunctionValues', 'chooseMaterialsCategory', 'TargetValues', 'raiseMaterialsList', 'existingCrystals', 'NewsetCrystal', 'SynthesizedMaterials', 'NewsetDescriptor', 'TrainingData', 'TargetValuesHavingCrystalFromDatabase', 'BayesianLinearRegression', 'NoExperimentMaterialsList', 'chooseTrainingSetCrystal', 'newTargetQuantityValues', 'getTargetSelectionCriterion', 'RegressionPredictionValues', 'RegressionModel', 'TrainingSetDescriptorAndRelationToTargetVariable']\n",
      "DFTree:dotoption {'apply_same_rank': False, 'connect_invis': False}\n",
      "init:dotoption {'apply_same_rank': False, 'connect_invis': False}\n",
      "gen_tree: apply_same_rank False\n",
      "png is made.\n"
     ]
    },
    {
     "data": {
      "text/plain": [
       "'/media/sf_local_pc/allWF.gv.png'"
      ]
     },
     "execution_count": 6,
     "metadata": {},
     "output_type": "execute_result"
    }
   ],
   "source": [
    "wfchain = wfblockToWFChaim(fdtset.wfblockall)\n",
    "wf = wfchain.to_WF()\n",
    "if False:\n",
    "    print(yaml.dump(wf))\n",
    "    \n",
    "print(wfchain.get_outputnames(only=[\"node1\"]))\n",
    "\n",
    "basename = \"allWF\"\n",
    "fdtree = cauFirst.FDTree(basename=basename,dotoption=dotoption)\n",
    "fdtree.apply(wf)\n",
    "\n",
    "import shutil\n",
    "filename = \"{}.gv.png\".format(basename)\n",
    "shutil.copyfile(filename,\"/media/sf_local_pc/{}\".format(filename))\n"
   ]
  },
  {
   "cell_type": "code",
   "execution_count": 7,
   "metadata": {
    "scrolled": true
   },
   "outputs": [
    {
     "name": "stdout",
     "output_type": "stream",
     "text": [
      "wklistnext> ['BayesianLinearRegression', 'RegressionModel']\n",
      "wklistnext> ['PredictionMeanAndVariance']\n",
      "wklistnext> ['aquisitionFunctionValues']\n",
      ">found link [['TrainingData', 'BayesianLinearRegression'], ['BayesianLinearRegression', 'PredictionMeanAndVariance'], ['PredictionMeanAndVariance', 'aquisitionFunctionValues'], ['aquisitionFunctionValues', 'raiseMaterialsList']]\n",
      "wklistnext> ['raiseMaterialsList']\n",
      "wklistnext> ['NoExperimentMaterialsList']\n",
      "wklistnext> ['SynthesizedMaterials']\n",
      "wklistnext> ['newTargetQuantityValues', 'NewSynthesizedCrystalCoordinates']\n",
      "wklistnext> ['newTargetMaterial', 'RicherMaterialsDatabase']\n",
      "wklistnext> []\n",
      "wklistnext> []\n",
      "wklistnext> ['RicherMaterialsDatabase']\n",
      "wklistnext> []\n",
      "wklistnext> ['RegressionPredictionValues']\n",
      ">found link [['TrainingData', 'RegressionModel'], ['RegressionModel', 'RegressionPredictionValues'], ['RegressionPredictionValues', 'raiseMaterialsList']]\n",
      "wklistnext> ['raiseMaterialsList']\n",
      "wklistnext> ['NoExperimentMaterialsList']\n",
      "wklistnext> ['SynthesizedMaterials']\n",
      "wklistnext> ['newTargetQuantityValues', 'NewSynthesizedCrystalCoordinates']\n",
      "wklistnext> ['newTargetMaterial', 'RicherMaterialsDatabase']\n",
      "wklistnext> []\n",
      "wklistnext> []\n",
      "wklistnext> ['RicherMaterialsDatabase']\n",
      "wklistnext> []\n",
      "search> {'methodname': 'fitBayesianLinearRegression', 'methodtype': 'function', 'outputname': 'BayesianLinearRegression', 'outputtype': 'parts'}\n",
      "add node> {'outputname': 'TrainingData', 'outputtype': 'parts'}\n",
      "search> {'methodname': 'applyBayesianLinearRegression', 'methodtype': 'function', 'outputname': 'PredictionMeanAndVariance', 'outputtype': 'parts'}\n",
      "add node> {'methodname': 'fitBayesianLinearRegression', 'methodtype': 'function', 'outputname': 'BayesianLinearRegression', 'outputtype': 'parts'}\n",
      "add node> {'outputname': 'BayesianLinearRegression', 'outputtype': 'parts'}\n",
      "add node> {'outputname': 'NewsetDescriptor', 'outputtype': 'parts'}\n",
      "search> {'methodname': 'applyBayesianLinearRegression', 'methodtype': 'function', 'outputname': 'PredictionMeanAndVariance', 'outputtype': 'parts'}\n",
      "search> {'methodname': 'UCBaquisitionFunction', 'methodtype': 'parts', 'outputname': 'aquisitionFunctionValues', 'outputtype': 'parts'}\n",
      "add node> {'methodname': 'applyBayesianLinearRegression', 'methodtype': 'function', 'outputname': 'PredictionMeanAndVariance', 'outputtype': 'parts'}\n",
      "search> {'methodname': 'ThonpsonSamplingaquisitionFunction', 'methodtype': 'parts', 'outputname': 'aquisitionFunctionValues', 'outputtype': 'parts'}\n",
      "add node> {'methodname': 'applyBayesianLinearRegression', 'methodtype': 'function', 'outputname': 'PredictionMeanAndVariance', 'outputtype': 'parts'}\n",
      "search> {'methodname': 'sortAquisitionFunctionValues', 'methodtype': 'function', 'outputname': 'raiseMaterialsList', 'outputtype': 'function'}\n",
      "add node> {'methodname': 'UCBaquisitionFunction', 'methodtype': 'parts', 'outputname': 'aquisitionFunctionValues', 'outputtype': 'parts'}\n",
      "add node> {'methodname': 'ThonpsonSamplingaquisitionFunction', 'methodtype': 'parts', 'outputname': 'aquisitionFunctionValues', 'outputtype': 'parts'}\n",
      "search> {'methodname': 'sortAquisitionFunctionValues', 'methodtype': 'function', 'outputname': 'raiseMaterialsList', 'outputtype': 'function'}\n",
      "search> {'methodname': 'NeuralNetworkRegression', 'outputname': 'RegressionModel', 'outputtype': 'parts'}\n",
      "add node> {'outputname': 'TrainingData', 'outputtype': 'parts'}\n",
      "search> {'methodname': 'LinearRegression', 'outputname': 'RegressionModel', 'outputtype': 'parts'}\n",
      "add node> {'outputname': 'TrainingData', 'outputtype': 'parts'}\n",
      "search> {'methodname': 'KernelRegression', 'outputname': 'RegressionModel', 'outputtype': 'parts'}\n",
      "add node> {'outputname': 'TrainingData', 'outputtype': 'parts'}\n",
      "search> {'methodname': 'RandomForestRegression', 'outputname': 'RegressionModel', 'outputtype': 'parts'}\n",
      "add node> {'outputname': 'TrainingData', 'outputtype': 'parts'}\n",
      "search> {'methodname': 'evaluateRegressionModel', 'methodtype': 'function', 'outputname': 'RegressionPredictionValues', 'outputtype': 'function'}\n",
      "add node> {'outputname': 'RegressionModel', 'outputtype': 'parts'}\n",
      "add node> {'outputname': 'NewsetDescriptor', 'outputtype': 'parts'}\n",
      "search> {'methodname': 'sortRegressionPredictionValues', 'methodtype': 'function', 'outputname': 'raiseMaterialsList', 'outputtype': 'function'}\n",
      "add node> {'methodname': 'evaluateRegressionModel', 'methodtype': 'function', 'outputname': 'RegressionPredictionValues', 'outputtype': 'function'}\n",
      "wklistnext> ['NewsetDescriptor']\n",
      "wklistnext> ['RegressionPredictionValues', 'PredictionMeanAndVariance']\n",
      ">found link [['NewsetCrystal', 'NewsetDescriptor'], ['NewsetDescriptor', 'RegressionPredictionValues'], ['RegressionPredictionValues', 'raiseMaterialsList']]\n",
      "wklistnext> ['raiseMaterialsList']\n",
      "wklistnext> ['NoExperimentMaterialsList']\n",
      "wklistnext> ['SynthesizedMaterials']\n",
      "wklistnext> ['newTargetQuantityValues', 'NewSynthesizedCrystalCoordinates']\n",
      "wklistnext> ['newTargetMaterial', 'RicherMaterialsDatabase']\n",
      "wklistnext> []\n",
      "wklistnext> []\n",
      "wklistnext> ['RicherMaterialsDatabase']\n",
      "wklistnext> []\n",
      "wklistnext> ['aquisitionFunctionValues']\n",
      ">found link [['NewsetCrystal', 'NewsetDescriptor'], ['NewsetDescriptor', 'PredictionMeanAndVariance'], ['PredictionMeanAndVariance', 'aquisitionFunctionValues'], ['aquisitionFunctionValues', 'raiseMaterialsList']]\n",
      "wklistnext> ['raiseMaterialsList']\n",
      "wklistnext> ['NoExperimentMaterialsList']\n",
      "wklistnext> ['SynthesizedMaterials']\n",
      "wklistnext> ['newTargetQuantityValues', 'NewSynthesizedCrystalCoordinates']\n",
      "wklistnext> ['newTargetMaterial', 'RicherMaterialsDatabase']\n",
      "wklistnext> []\n",
      "wklistnext> []\n",
      "wklistnext> ['RicherMaterialsDatabase']\n",
      "wklistnext> []\n",
      "search> {'methodname': 'CrystalToDescriptorAndRelationToTargetVariable(newSet)', 'methodtype': 'method', 'outputname': 'NewsetDescriptor', 'outputtype': 'parts'}\n",
      "add node> {'outputname': 'NewsetCrystal', 'outputtype': 'parts'}\n",
      "search> {'methodname': 'evaluateRegressionModel', 'methodtype': 'function', 'outputname': 'RegressionPredictionValues', 'outputtype': 'function'}\n",
      "add node> {'outputname': 'RegressionModel', 'outputtype': 'parts'}\n",
      "add node> {'outputname': 'NewsetDescriptor', 'outputtype': 'parts'}\n",
      "search> {'methodname': 'sortRegressionPredictionValues', 'methodtype': 'function', 'outputname': 'raiseMaterialsList', 'outputtype': 'function'}\n",
      "add node> {'methodname': 'evaluateRegressionModel', 'methodtype': 'function', 'outputname': 'RegressionPredictionValues', 'outputtype': 'function'}\n",
      "search> {'methodname': 'applyBayesianLinearRegression', 'methodtype': 'function', 'outputname': 'PredictionMeanAndVariance', 'outputtype': 'parts'}\n",
      "add node> {'methodname': 'fitBayesianLinearRegression', 'methodtype': 'function', 'outputname': 'BayesianLinearRegression', 'outputtype': 'parts'}\n",
      "add node> {'outputname': 'BayesianLinearRegression', 'outputtype': 'parts'}\n",
      "add node> {'outputname': 'NewsetDescriptor', 'outputtype': 'parts'}\n",
      "search> {'methodname': 'UCBaquisitionFunction', 'methodtype': 'parts', 'outputname': 'aquisitionFunctionValues', 'outputtype': 'parts'}\n",
      "add node> {'methodname': 'applyBayesianLinearRegression', 'methodtype': 'function', 'outputname': 'PredictionMeanAndVariance', 'outputtype': 'parts'}\n",
      "search> {'methodname': 'ThonpsonSamplingaquisitionFunction', 'methodtype': 'parts', 'outputname': 'aquisitionFunctionValues', 'outputtype': 'parts'}\n",
      "add node> {'methodname': 'applyBayesianLinearRegression', 'methodtype': 'function', 'outputname': 'PredictionMeanAndVariance', 'outputtype': 'parts'}\n",
      "search> {'methodname': 'sortAquisitionFunctionValues', 'methodtype': 'function', 'outputname': 'raiseMaterialsList', 'outputtype': 'function'}\n",
      "add node> {'methodname': 'UCBaquisitionFunction', 'methodtype': 'parts', 'outputname': 'aquisitionFunctionValues', 'outputtype': 'parts'}\n",
      "add node> {'methodname': 'ThonpsonSamplingaquisitionFunction', 'methodtype': 'parts', 'outputname': 'aquisitionFunctionValues', 'outputtype': 'parts'}\n",
      "search> {'methodname': 'sortAquisitionFunctionValues', 'methodtype': 'function', 'outputname': 'raiseMaterialsList', 'outputtype': 'function'}\n",
      "wklistnext> []\n",
      "DFTree:dotoption {'apply_same_rank': False, 'connect_invis': False}\n",
      "init:dotoption {'apply_same_rank': False, 'connect_invis': False}\n",
      "gen_tree: apply_same_rank False\n",
      "png is made.\n"
     ]
    }
   ],
   "source": [
    "execute = False\n",
    "if \"MaterialsList\" in doit:\n",
    "    trainchain = wfchain.search_link(\"TrainingData\",\"raiseMaterialsList\")\n",
    "    newchain = wfchain.search_link(\"NewsetCrystal\",\"raiseMaterialsList\")\n",
    "    trainchain.extend(newchain)\n",
    "    execute = True\n",
    "if \"Group\" in doit:\n",
    "    trainchain = wfchain.search_link(\"DescriptorOfAllData\", \\\n",
    "                                     \"FeatureGroupCandidates\")\n",
    "    execute = True\n",
    "if \"Importance in doit\":\n",
    "    trainchain = wfchain.search_link(\"AllModels\", \\\n",
    "                                     \"AllModelsExceptGroupWithSubgroup\")\n",
    "    execute = True  \n",
    "    \n",
    "if execute:\n",
    "    wfsub = trainchain.to_WF()\n",
    "    fdtree = cauFirst.FDTree(basename=\"new\",dotoption=dotoption)\n",
    "    fdtree.apply(wfsub)\n",
    "    import shutil\n",
    "    filename = \"new.gv.png\"\n",
    "    shutil.copyfile(filename,\"/media/sf_local_pc/{}\".format(filename))"
   ]
  },
  {
   "cell_type": "code",
   "execution_count": 8,
   "metadata": {},
   "outputs": [
    {
     "name": "stdout",
     "output_type": "stream",
     "text": [
      "all done\n"
     ]
    }
   ],
   "source": [
    "print(\"all done\")"
   ]
  },
  {
   "cell_type": "code",
   "execution_count": null,
   "metadata": {},
   "outputs": [],
   "source": []
  }
 ],
 "metadata": {
  "kernelspec": {
   "display_name": "Python 3",
   "language": "python",
   "name": "python3"
  },
  "language_info": {
   "codemirror_mode": {
    "name": "ipython",
    "version": 3
   },
   "file_extension": ".py",
   "mimetype": "text/x-python",
   "name": "python",
   "nbconvert_exporter": "python",
   "pygments_lexer": "ipython3",
   "version": "3.7.3"
  }
 },
 "nbformat": 4,
 "nbformat_minor": 2
}
